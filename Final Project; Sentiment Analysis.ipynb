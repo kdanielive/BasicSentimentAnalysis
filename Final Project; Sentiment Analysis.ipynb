{
 "cells": [
  {
   "cell_type": "code",
   "execution_count": 1,
   "metadata": {
    "scrolled": false
   },
   "outputs": [
    {
     "name": "stderr",
     "output_type": "stream",
     "text": [
      "/anaconda3/lib/python3.6/importlib/_bootstrap.py:205: RuntimeWarning: compiletime version 3.5 of module 'tensorflow.python.framework.fast_tensor_util' does not match runtime version 3.6\n",
      "  return f(*args, **kwds)\n"
     ]
    }
   ],
   "source": [
    "import pandas as pd\n",
    "import math\n",
    "import numpy as np\n",
    "import matplotlib.pyplot as plt\n",
    "import tensorflow as tf\n",
    "from tensorflow.python.framework import ops\n",
    "## the runtime error message is unimportant; it appears in every tensorflow usage in python3.6\n",
    "ops.reset_default_graph()\n",
    "np.random.seed(1)"
   ]
  },
  {
   "cell_type": "markdown",
   "metadata": {},
   "source": [
    "# Preparing Data\n",
    "### Inspired from https://github.com/luhego/udacity-deep-learning/tree/master/sentiment-analysis with personal modifications\n"
   ]
  },
  {
   "cell_type": "code",
   "execution_count": 2,
   "metadata": {
    "scrolled": false
   },
   "outputs": [
    {
     "name": "stdout",
     "output_type": "stream",
     "text": [
      "<class 'pandas.core.frame.DataFrame'>\n",
      "bromwell high is a cartoon comedy . it ran at the same time as some other programs about school life  such as  teachers  . my   years in the teaching profession lead me to believe that bromwell high  s satire is much closer to reality than is  teachers  . the scramble to survive financially  the insightful students who can see right through their pathetic teachers  pomp  the pettiness of the whole situation  all remind me of the schools i knew and their students . when i saw the episode in which a student repeatedly tried to burn down the school  i immediately recalled . . . . . . . . . at . . . . . . . . . . high . a classic line inspector i  m here to sack one of your teachers . student welcome to bromwell high . i expect that many adults of my age think that bromwell high is far fetched . what a pity that it isn  t   \n",
      "\n"
     ]
    }
   ],
   "source": [
    "reviews = pd.read_csv('reviews.txt', header=None)\n",
    "labels = pd.read_csv('labels.txt', header=None)\n",
    "## reads the csv file in pandas dataset format\n",
    "print(type(reviews))\n",
    "print(reviews[0][0])\n",
    "print()"
   ]
  },
  {
   "cell_type": "code",
   "execution_count": 3,
   "metadata": {
    "scrolled": false
   },
   "outputs": [
    {
     "name": "stdout",
     "output_type": "stream",
     "text": [
      "Total words in data set:  74074\n",
      "\n"
     ]
    }
   ],
   "source": [
    "from collections import Counter\n",
    "\n",
    "total_counts = Counter()\n",
    "## creates a list of words. each word has a place in 2d array, each place records how many times the word was used\n",
    "for idx, row in reviews.iterrows():\n",
    "    review = row[0]\n",
    "    for word in review.split(' '):\n",
    "        total_counts[word] += 1\n",
    "\n",
    "print(\"Total words in data set: \", len(total_counts))\n",
    "print()"
   ]
  },
  {
   "cell_type": "markdown",
   "metadata": {},
   "source": [
    "#### Major modifications done to data set from Udacity code to decrease variance of neural network"
   ]
  },
  {
   "cell_type": "code",
   "execution_count": 4,
   "metadata": {
    "scrolled": false
   },
   "outputs": [
    {
     "name": "stdout",
     "output_type": "stream",
     "text": [
      "['by', 'an', 'who', 'so', 'from', 'like', 'there', 'her', 'or', 'just', 'about', 'out', 'if', 'has', 'what', 'some', 'good', 'can', 'more', 'she', 'when', 'very', 'up', 'time', 'no', 'even', 'my', 'would', 'which', 'story', 'only', 'really', 'see', 'their', 'had', 'we', 'were', 'me', 'well', 'than', 'much', 'get', 'bad', 'been', 'people', 'will', 'do', 'other', 'also', 'into']\n",
      "good 15143\n",
      "layman :  9\n"
     ]
    }
   ],
   "source": [
    "## gets the 20000 most frequently used words excluding unnecessary ones\n",
    "vocab = sorted(total_counts, key=total_counts.get, reverse=True)[35:20035]\n",
    "print(vocab[:50])\n",
    "print(\"good\", total_counts[\"good\"])\n",
    "\n",
    "## last word in 10000 word data set is used 9 times, as seen from the print statements\n",
    "print(vocab[-1], ': ', total_counts[vocab[-1]])"
   ]
  },
  {
   "cell_type": "code",
   "execution_count": 5,
   "metadata": {
    "collapsed": true,
    "scrolled": false
   },
   "outputs": [],
   "source": [
    "## creates a dictionary indicating what the index of the word is in the vocab list (one with 20000 most frequent words)\n",
    "word2idx = {word: index for index, word in enumerate(vocab)}## create the word-to-index dictionary here\n",
    "\n",
    "## converts a text (string) into a vector form \n",
    "def text_to_vector(text):\n",
    "    vector = np.zeros(len(vocab))\n",
    "    for word in text.split(' '):\n",
    "        index = word2idx.get(word, None)\n",
    "            ##.get method returns None when word cannot be found\n",
    "        if index:\n",
    "            vector[index] += 1\n",
    "    return vector"
   ]
  },
  {
   "cell_type": "code",
   "execution_count": 6,
   "metadata": {
    "collapsed": true,
    "scrolled": false
   },
   "outputs": [],
   "source": [
    "## so the input layer is going to be: each review is a 2d word vector, layer is 2d matrix with a review in each row\n",
    "word_vectors = np.zeros((len(reviews), len(vocab)), dtype=np.int_)\n",
    "for ii, (_, text) in enumerate(reviews.iterrows()):\n",
    "    word_vectors[ii] = text_to_vector(text[0])"
   ]
  },
  {
   "cell_type": "code",
   "execution_count": 7,
   "metadata": {
    "scrolled": false
   },
   "outputs": [
    {
     "data": {
      "text/plain": [
       "array([[0, 0, 1, 0, 0, 0, 0, 0, 0, 0, 1, 0, 0, 0, 1, 1, 0, 1, 0, 0, 1, 0, 0],\n",
       "       [0, 1, 1, 0, 1, 0, 0, 0, 0, 1, 0, 1, 0, 1, 0, 1, 1, 1, 0, 0, 0, 0, 0],\n",
       "       [0, 2, 6, 0, 2, 5, 0, 2, 8, 1, 1, 0, 4, 2, 5, 0, 0, 3, 1, 0, 2, 0, 1],\n",
       "       [0, 3, 2, 3, 0, 2, 4, 1, 7, 4, 2, 6, 4, 3, 0, 0, 1, 2, 2, 0, 2, 0, 2],\n",
       "       [0, 0, 1, 0, 1, 0, 0, 0, 0, 0, 0, 1, 0, 0, 0, 0, 1, 0, 1, 0, 0, 0, 0]])"
      ]
     },
     "execution_count": 7,
     "metadata": {},
     "output_type": "execute_result"
    }
   ],
   "source": [
    "# Printing out the first 5 word vectors to check correct execution\n",
    "word_vectors[:5, :23]"
   ]
  },
  {
   "cell_type": "markdown",
   "metadata": {},
   "source": [
    "### End of inspired code from Udacity dataset\n",
    "# Dividing the dataset into training set and dev/test set"
   ]
  },
  {
   "cell_type": "markdown",
   "metadata": {},
   "source": [
    "#### Prepares data to fit the dimensions required by the neural network"
   ]
  },
  {
   "cell_type": "code",
   "execution_count": 8,
   "metadata": {
    "collapsed": true,
    "scrolled": false
   },
   "outputs": [],
   "source": [
    "## number of reviews\n",
    "reviewNum = len(reviews)"
   ]
  },
  {
   "cell_type": "code",
   "execution_count": 9,
   "metadata": {
    "scrolled": false
   },
   "outputs": [
    {
     "name": "stdout",
     "output_type": "stream",
     "text": [
      "(20000, 23750)\n",
      "(1, 23750)\n"
     ]
    }
   ],
   "source": [
    "## train_fraction shows percentage of training set from the entire data set\n",
    "train_fraction = 0.95\n",
    "Y = (labels=='positive').astype(np.int_)\n",
    "trainNum = int(np.rint(reviewNum * train_fraction))\n",
    "# devNum = int((reviewNum - trainNum) / 2)\n",
    "normalize_max = np.amax(word_vectors)\n",
    "#word_vectors = word_vectors / normalize_max\n",
    "\n",
    "trainX, trainY = word_vectors[:trainNum].T, Y[:trainNum].T\n",
    "# devX, devY = word_vectors[trainNum:(trainNum+devNum)].T, Y[trainNum:(trainNum+devNum)].T\n",
    "# testX, testY = word_vectors[trainNum+devNum:].T, Y[trainNum+devNum:].T\n",
    "testX, testY = word_vectors[trainNum:].T, Y[trainNum:].T\n",
    "\n",
    "trainX = trainX.astype(np.float64)\n",
    "\n",
    "## shows the shape of training set for inputs and labels\n",
    "print(trainX.shape)\n",
    "print(trainY.shape)"
   ]
  },
  {
   "cell_type": "markdown",
   "metadata": {},
   "source": [
    "#### Converts the label in to one-hot label"
   ]
  },
  {
   "cell_type": "code",
   "execution_count": 10,
   "metadata": {
    "collapsed": true,
    "scrolled": false
   },
   "outputs": [],
   "source": [
    "def convert_one_hot(labels, C):\n",
    "    labels = np.squeeze(np.asarray(labels))\n",
    "    ## constant shows how many classes to predict\n",
    "    C = tf.constant(C, name = \"C\")\n",
    "    ## tensor for converting to one hot form\n",
    "    one_hot_matrix = tf.one_hot(labels, C, axis=0)\n",
    "    sess = tf.Session()\n",
    "    one_hot = sess.run(one_hot_matrix)\n",
    "    return one_hot"
   ]
  },
  {
   "cell_type": "code",
   "execution_count": 11,
   "metadata": {
    "collapsed": true,
    "scrolled": false
   },
   "outputs": [],
   "source": [
    "import tensorflow as tf\n",
    "import numpy as np\n",
    "from sklearn.datasets import make_classification\n",
    "from sklearn.model_selection import train_test_split"
   ]
  },
  {
   "cell_type": "code",
   "execution_count": 12,
   "metadata": {
    "scrolled": false
   },
   "outputs": [
    {
     "name": "stdout",
     "output_type": "stream",
     "text": [
      "(23750, 20000)\n",
      "(23750, 2)\n"
     ]
    }
   ],
   "source": [
    "## transpose the X and Y sets to fit the matrix multiplication with the weights\n",
    "X, Y, X_test, Y_test = trainX.T, convert_one_hot(trainY,2).T, testX.T, convert_one_hot(testY,2).T\n",
    "#X_dev, Y_dev = devX.T, convert_one_hot(devY,2).T\n",
    "print(X.shape)\n",
    "print(Y.shape)"
   ]
  },
  {
   "cell_type": "markdown",
   "metadata": {},
   "source": [
    "# Making the Neural Net"
   ]
  },
  {
   "cell_type": "code",
   "execution_count": 27,
   "metadata": {
    "collapsed": true,
    "scrolled": false
   },
   "outputs": [],
   "source": [
    "# Parameters\n",
    "learning_rate = 0.01\n",
    "training_epochs = 200\n",
    "batch_size = 128\n",
    "display_step = 1\n",
    "beta= 0.01\n",
    "\n",
    "## number of nodes and classes\n",
    "n_hidden_1 = 10\n",
    "n_hidden_2 = 10\n",
    "#n_hidden_3 = 15\n",
    "n_input = X.shape[1] \n",
    "n_classes = 2 \n",
    "\n",
    "\n",
    "## input, labels, and dropout rate\n",
    "x = tf.placeholder(\"float\", [None, n_input])\n",
    "y = tf.placeholder(\"float\", [None, n_classes])\n",
    "\n",
    "keep_prob = tf.placeholder(tf.float32)\n",
    "\n",
    "# Create model\n",
    "def model(x, weights, biases):\n",
    "    \n",
    "    # Hidden layer with RELU activation\n",
    "    layer_1 = tf.add(tf.matmul(x, weights['h1']), biases['b1'])\n",
    "    layer_1 = tf.nn.relu(layer_1)\n",
    "    layer_1 = tf.nn.dropout(layer_1, keep_prob)\n",
    "    \n",
    "    # Hidden layer with RELU activation\n",
    "    layer_2 = tf.add(tf.matmul(layer_1, weights['h2']), biases['b2'])\n",
    "    layer_2 = tf.nn.relu(layer_2)\n",
    "    layer_2 = tf.nn.dropout(layer_2, keep_prob)\n",
    "    \n",
    "    # Another RELU activation hidden layer\n",
    "    #layer_3 = tf.add(tf.matmul(layer_2, weights['h3']), biases['b3'])\n",
    "    #layer_3 = tf.nn.relu(layer_3)\n",
    "    \n",
    "    # Output layer with linear activation\n",
    "    out_layer = tf.matmul(layer_2, weights['out']) + biases['out']\n",
    "    return out_layer\n",
    "\n",
    "# Weights and Biases\n",
    "weights = {\n",
    "    'h1': tf.Variable(tf.random_normal([n_input, n_hidden_1])),\n",
    "    'h2': tf.Variable(tf.random_normal([n_hidden_1, n_hidden_2])),\n",
    "    #'h3': tf.Variable(tf.random_normal([n_hidden_2, n_hidden_3])),\n",
    "    'out': tf.Variable(tf.random_normal([n_hidden_2, n_classes]))\n",
    "}\n",
    "\n",
    "biases = {\n",
    "    'b1': tf.Variable(tf.random_normal([n_hidden_1])),\n",
    "    'b2': tf.Variable(tf.random_normal([n_hidden_2])),\n",
    "    #'b3': tf.Variable(tf.random_normal([n_hidden_3])),\n",
    "    'out': tf.Variable(tf.random_normal([n_classes]))\n",
    "}\n",
    "\n",
    "# Construct model\n",
    "pred = model(x, weights, biases)\n",
    "\n",
    "# Loss and Optimizer\n",
    "cost = tf.reduce_mean(tf.nn.softmax_cross_entropy_with_logits(logits=pred, labels=y))\n",
    "optimizer = tf.train.AdamOptimizer(learning_rate=learning_rate).minimize(cost)\n",
    "\n",
    "# Initialize tensors\n",
    "init = tf.global_variables_initializer()"
   ]
  },
  {
   "cell_type": "code",
   "execution_count": 28,
   "metadata": {
    "scrolled": false
   },
   "outputs": [
    {
     "name": "stdout",
     "output_type": "stream",
     "text": [
      "Epoch: 0001 cost= 5.230719658\n",
      "Epoch: 0002 cost= 0.882521030\n",
      "Epoch: 0003 cost= 0.755882105\n",
      "Epoch: 0004 cost= 0.742755489\n",
      "Epoch: 0005 cost= 0.721170555\n",
      "Epoch: 0006 cost= 0.701595811\n",
      "Epoch: 0007 cost= 0.698177796\n",
      "Epoch: 0008 cost= 0.696413666\n",
      "Epoch: 0009 cost= 0.693069766\n",
      "Epoch: 0010 cost= 0.688098441\n",
      "Epoch: 0011 cost= 0.674957937\n",
      "Epoch: 0012 cost= 0.667929894\n",
      "Epoch: 0013 cost= 0.652987272\n",
      "Epoch: 0014 cost= 0.642685183\n",
      "Epoch: 0015 cost= 0.624604298\n",
      "Epoch: 0016 cost= 0.587099088\n",
      "Epoch: 0017 cost= 0.541184148\n",
      "Epoch: 0018 cost= 0.508879813\n",
      "Epoch: 0019 cost= 0.470570026\n",
      "Epoch: 0020 cost= 0.428529594\n",
      "Epoch: 0021 cost= 0.407388719\n",
      "Epoch: 0022 cost= 0.378315630\n",
      "Epoch: 0023 cost= 0.362045878\n",
      "Epoch: 0024 cost= 0.340158748\n",
      "Epoch: 0025 cost= 0.322056137\n",
      "Epoch: 0026 cost= 0.306025258\n",
      "Epoch: 0027 cost= 0.286645289\n",
      "Epoch: 0028 cost= 0.275036930\n",
      "Epoch: 0029 cost= 0.262447769\n",
      "Epoch: 0030 cost= 0.254901927\n",
      "Epoch: 0031 cost= 0.250297344\n",
      "Epoch: 0032 cost= 0.241849230\n",
      "Epoch: 0033 cost= 0.236513975\n",
      "Epoch: 0034 cost= 0.229553719\n",
      "Epoch: 0035 cost= 0.227434458\n",
      "Epoch: 0036 cost= 0.223567037\n",
      "Epoch: 0037 cost= 0.221881794\n",
      "Epoch: 0038 cost= 0.217348999\n",
      "Epoch: 0039 cost= 0.218140300\n",
      "Epoch: 0040 cost= 0.213026130\n",
      "Epoch: 0041 cost= 0.210557016\n",
      "Epoch: 0042 cost= 0.208871615\n",
      "Epoch: 0043 cost= 0.208031590\n",
      "Epoch: 0044 cost= 0.206579102\n",
      "Epoch: 0045 cost= 0.203833847\n",
      "Epoch: 0046 cost= 0.200928359\n",
      "Epoch: 0047 cost= 0.199641699\n",
      "Epoch: 0048 cost= 0.196529199\n",
      "Epoch: 0049 cost= 0.200720306\n",
      "Epoch: 0050 cost= 0.196071564\n",
      "Epoch: 0051 cost= 0.196926652\n",
      "Epoch: 0052 cost= 0.191842921\n",
      "Epoch: 0053 cost= 0.195535004\n",
      "Epoch: 0054 cost= 0.196417922\n",
      "Epoch: 0055 cost= 0.190138138\n",
      "Epoch: 0056 cost= 0.191508063\n",
      "Epoch: 0057 cost= 0.193559350\n",
      "Epoch: 0058 cost= 0.194505896\n",
      "Epoch: 0059 cost= 0.195680040\n",
      "Epoch: 0060 cost= 0.187554290\n",
      "Epoch: 0061 cost= 0.188356171\n",
      "Epoch: 0062 cost= 0.187515478\n",
      "Epoch: 0063 cost= 0.185945447\n",
      "Epoch: 0064 cost= 0.185884877\n",
      "Epoch: 0065 cost= 0.181328577\n",
      "Epoch: 0066 cost= 0.182825916\n",
      "Epoch: 0067 cost= 0.176555178\n",
      "Epoch: 0068 cost= 0.178416203\n",
      "Epoch: 0069 cost= 0.178777576\n",
      "Epoch: 0070 cost= 0.177647883\n",
      "Epoch: 0071 cost= 0.174673300\n",
      "Epoch: 0072 cost= 0.173684337\n",
      "Epoch: 0073 cost= 0.175783023\n",
      "Epoch: 0074 cost= 0.170242564\n",
      "Epoch: 0075 cost= 0.172818038\n",
      "Epoch: 0076 cost= 0.167881852\n",
      "Epoch: 0077 cost= 0.177305218\n",
      "Epoch: 0078 cost= 0.170086058\n",
      "Epoch: 0079 cost= 0.168936785\n",
      "Epoch: 0080 cost= 0.168202272\n",
      "Epoch: 0081 cost= 0.165722400\n",
      "Epoch: 0082 cost= 0.168719937\n",
      "Epoch: 0083 cost= 0.163304904\n",
      "Epoch: 0084 cost= 0.166290116\n",
      "Epoch: 0085 cost= 0.161834073\n",
      "Epoch: 0086 cost= 0.164431704\n",
      "Epoch: 0087 cost= 0.161994408\n",
      "Epoch: 0088 cost= 0.164651539\n",
      "Epoch: 0089 cost= 0.164085702\n",
      "Epoch: 0090 cost= 0.162367246\n",
      "Epoch: 0091 cost= 0.159507771\n",
      "Epoch: 0092 cost= 0.157250276\n",
      "Epoch: 0093 cost= 0.159981233\n",
      "Epoch: 0094 cost= 0.157302861\n",
      "Epoch: 0095 cost= 0.157560612\n",
      "Epoch: 0096 cost= 0.155175247\n",
      "Epoch: 0097 cost= 0.159575964\n",
      "Epoch: 0098 cost= 0.156392224\n",
      "Epoch: 0099 cost= 0.154413148\n",
      "Epoch: 0100 cost= 0.155270618\n",
      "Epoch: 0101 cost= 0.155940383\n",
      "Epoch: 0102 cost= 0.152002434\n",
      "Epoch: 0103 cost= 0.154733649\n",
      "Epoch: 0104 cost= 0.152745055\n",
      "Epoch: 0105 cost= 0.154852825\n",
      "Epoch: 0106 cost= 0.156349230\n",
      "Epoch: 0107 cost= 0.153854216\n",
      "Epoch: 0108 cost= 0.153314340\n",
      "Epoch: 0109 cost= 0.152838377\n",
      "Epoch: 0110 cost= 0.157543933\n",
      "Epoch: 0111 cost= 0.149721641\n",
      "Epoch: 0112 cost= 0.152512446\n",
      "Epoch: 0113 cost= 0.150934520\n",
      "Epoch: 0114 cost= 0.153910971\n",
      "Epoch: 0115 cost= 0.155339776\n",
      "Epoch: 0116 cost= 0.157576825\n",
      "Epoch: 0117 cost= 0.152433370\n",
      "Epoch: 0118 cost= 0.152394591\n",
      "Epoch: 0119 cost= 0.148321828\n",
      "Epoch: 0120 cost= 0.152631736\n",
      "Epoch: 0121 cost= 0.148946646\n",
      "Epoch: 0122 cost= 0.151390267\n",
      "Epoch: 0123 cost= 0.154382190\n",
      "Epoch: 0124 cost= 0.148397050\n",
      "Epoch: 0125 cost= 0.151380747\n",
      "Epoch: 0126 cost= 0.145434537\n",
      "Epoch: 0127 cost= 0.146932908\n",
      "Epoch: 0128 cost= 0.144909337\n",
      "Epoch: 0129 cost= 0.142216109\n",
      "Epoch: 0130 cost= 0.143983531\n",
      "Epoch: 0131 cost= 0.147081198\n",
      "Epoch: 0132 cost= 0.151517057\n",
      "Epoch: 0133 cost= 0.148050540\n",
      "Epoch: 0134 cost= 0.144228852\n",
      "Epoch: 0135 cost= 0.150044970\n",
      "Epoch: 0136 cost= 0.146795022\n",
      "Epoch: 0137 cost= 0.149396805\n",
      "Epoch: 0138 cost= 0.146323507\n",
      "Epoch: 0139 cost= 0.149931277\n",
      "Epoch: 0140 cost= 0.147511124\n",
      "Epoch: 0141 cost= 0.145377053\n",
      "Epoch: 0142 cost= 0.149142349\n",
      "Epoch: 0143 cost= 0.143857719\n",
      "Epoch: 0144 cost= 0.145156469\n",
      "Epoch: 0145 cost= 0.148360969\n",
      "Epoch: 0146 cost= 0.146268528\n",
      "Epoch: 0147 cost= 0.152749108\n",
      "Epoch: 0148 cost= 0.146402639\n",
      "Epoch: 0149 cost= 0.145148726\n",
      "Epoch: 0150 cost= 0.145076744\n",
      "Epoch: 0151 cost= 0.145389344\n",
      "Epoch: 0152 cost= 0.147404404\n",
      "Epoch: 0153 cost= 0.148107808\n",
      "Epoch: 0154 cost= 0.145478171\n",
      "Epoch: 0155 cost= 0.145956971\n",
      "Epoch: 0156 cost= 0.145413452\n",
      "Epoch: 0157 cost= 0.144216718\n",
      "Epoch: 0158 cost= 0.144435328\n",
      "Epoch: 0159 cost= 0.141575869\n",
      "Epoch: 0160 cost= 0.143459090\n",
      "Epoch: 0161 cost= 0.140561623\n",
      "Epoch: 0162 cost= 0.146044913\n",
      "Epoch: 0163 cost= 0.147397433\n",
      "Epoch: 0164 cost= 0.141194008\n",
      "Epoch: 0165 cost= 0.142727704\n",
      "Epoch: 0166 cost= 0.139327156\n",
      "Epoch: 0167 cost= 0.148570790\n",
      "Epoch: 0168 cost= 0.145812207\n",
      "Epoch: 0169 cost= 0.141633588\n",
      "Epoch: 0170 cost= 0.146706735\n",
      "Epoch: 0171 cost= 0.139060650\n",
      "Epoch: 0172 cost= 0.141106056\n",
      "Epoch: 0173 cost= 0.144978828\n",
      "Epoch: 0174 cost= 0.148972465\n",
      "Epoch: 0175 cost= 0.152826573\n",
      "Epoch: 0176 cost= 0.141837567\n",
      "Epoch: 0177 cost= 0.143504567\n",
      "Epoch: 0178 cost= 0.140026789\n",
      "Epoch: 0179 cost= 0.143475090\n",
      "Epoch: 0180 cost= 0.141263980\n",
      "Epoch: 0181 cost= 0.145312158\n",
      "Epoch: 0182 cost= 0.141005488\n",
      "Epoch: 0183 cost= 0.142362517\n",
      "Epoch: 0184 cost= 0.137510791\n",
      "Epoch: 0185 cost= 0.144272909\n",
      "Epoch: 0186 cost= 0.147932617\n",
      "Epoch: 0187 cost= 0.139008007\n",
      "Epoch: 0188 cost= 0.135436701\n",
      "Epoch: 0189 cost= 0.144719749\n",
      "Epoch: 0190 cost= 0.139228054\n",
      "Epoch: 0191 cost= 0.143526569\n",
      "Epoch: 0192 cost= 0.138996642\n",
      "Epoch: 0193 cost= 0.142600229\n",
      "Epoch: 0194 cost= 0.138729089\n",
      "Epoch: 0195 cost= 0.140307803\n",
      "Epoch: 0196 cost= 0.138692352\n",
      "Epoch: 0197 cost= 0.139456708\n",
      "Epoch: 0198 cost= 0.141417232\n",
      "Epoch: 0199 cost= 0.138646478\n",
      "Epoch: 0200 cost= 0.138051316\n",
      "Optimization Finished!\n"
     ]
    },
    {
     "data": {
      "image/png": "[encoded data removed]",
      "text/plain": [
       "<matplotlib.figure.Figure at 0x1817bc5208>"
      ]
     },
     "metadata": {},
     "output_type": "display_data"
    },
    {
     "name": "stdout",
     "output_type": "stream",
     "text": [
      "Training Set Accuracy: 0.993811\n",
      "Test Set Accuracy: 0.8456\n"
     ]
    }
   ],
   "source": [
    "# Launch the graph\n",
    "with tf.Session() as sess:\n",
    "    sess.run(init)\n",
    "    saver = tf.train.Saver()\n",
    "    \n",
    "    costs = []\n",
    "\n",
    "    for epoch in range(training_epochs):\n",
    "        avg_loss = 0.\n",
    "        total_batch = int(len(X)/batch_size)\n",
    "        X_batches = np.array_split(X, total_batch)\n",
    "        Y_batches = np.array_split(Y, total_batch)\n",
    "        # Loop over all batches\n",
    "        for i in range(total_batch):\n",
    "            batch_x, batch_y = X_batches[i], Y_batches[i]\n",
    "            # Optimize and get loss to display\n",
    "            _, loss = sess.run([optimizer, cost], feed_dict={x: batch_x,\n",
    "                                                          y: batch_y, keep_prob: 0.5})\n",
    "            # Compute average loss\n",
    "            avg_loss += loss / total_batch\n",
    "        # Epoch display code inspired from Coursera\n",
    "        if epoch % display_step == 0:\n",
    "            print(\"Epoch:\", '%04d' % (epoch+1), \"cost=\", \"{:.9f}\".format(avg_loss))\n",
    "        \n",
    "        costs.append(avg_loss)\n",
    "    \n",
    "    print(\"Optimization Finished!\")\n",
    "\n",
    "    # Plots the cost graph. Inspired from Udemy course code\n",
    "    plt.plot(costs)\n",
    "    plt.ylabel('cost')\n",
    "    plt.xlabel('iterations (x1,000)')\n",
    "    plt.title(\"Learning rate =\" + str(learning_rate))\n",
    "    plt.show()\n",
    "    \n",
    "    # Test model\n",
    "    correct_prediction = tf.equal(tf.argmax(pred, 1), tf.argmax(y, 1))\n",
    "    # Calculate accuracy of training and test sets\n",
    "    accuracy = tf.reduce_mean(tf.cast(correct_prediction, \"float\"))\n",
    "    print(\"Training Set Accuracy:\", accuracy.eval({x: X, y: Y, keep_prob: 1.0}))\n",
    "    print(\"Test Set Accuracy:\", accuracy.eval({x: X_test, y: Y_test, keep_prob: 1.0}))\n",
    "    \n",
    "    save_path = saver.save(sess, \"/tmp/model.ckpt\")"
   ]
  },
  {
   "cell_type": "code",
   "execution_count": 9,
   "metadata": {
    "collapsed": true,
    "scrolled": false
   },
   "outputs": [],
   "source": [
    "# Method to predict sentiment of sentences using the trained weights of the neural network\n",
    "def predict_sentiment(text):\n",
    "    saver = tf.train.Saver()\n",
    "    text = text_to_vector(text).reshape(1,20000)\n",
    "    prediction = tf.equal(tf.argmax(pred,1),1)\n",
    "    with tf.Session() as sess:\n",
    "        saver.restore(sess, \"/tmp/model.ckpt\")\n",
    "        if(prediction.eval({x: text,keep_prob: 1.0})):\n",
    "            return \"Positive\"\n",
    "        else:\n",
    "            return \"Negative\""
   ]
  },
  {
   "cell_type": "code",
   "execution_count": 10,
   "metadata": {
    "collapsed": true,
    "scrolled": false
   },
   "outputs": [],
   "source": [
    "# Text to predict the sentiment of\n",
    "testText = \"Duke University\""
   ]
  },
  {
   "cell_type": "code",
   "execution_count": 11,
   "metadata": {
    "scrolled": false
   },
   "outputs": [
    {
     "ename": "ValueError",
     "evalue": "No variables to save",
     "output_type": "error",
     "traceback": [
      "\u001b[0;31m---------------------------------------------------------------------------\u001b[0m",
      "\u001b[0;31mValueError\u001b[0m                                Traceback (most recent call last)",
      "\u001b[0;32m<ipython-input-11-f6e76cc3b3cd>\u001b[0m in \u001b[0;36m<module>\u001b[0;34m()\u001b[0m\n\u001b[1;32m      1\u001b[0m \u001b[0;31m# The trained neural network works quite well\u001b[0m\u001b[0;34m\u001b[0m\u001b[0;34m\u001b[0m\u001b[0m\n\u001b[0;32m----> 2\u001b[0;31m \u001b[0mprediction\u001b[0m \u001b[0;34m=\u001b[0m \u001b[0mpredict_sentiment\u001b[0m\u001b[0;34m(\u001b[0m\u001b[0mtestText\u001b[0m\u001b[0;34m)\u001b[0m\u001b[0;34m\u001b[0m\u001b[0m\n\u001b[0m\u001b[1;32m      3\u001b[0m \u001b[0mprint\u001b[0m\u001b[0;34m(\u001b[0m\u001b[0mprediction\u001b[0m\u001b[0;34m)\u001b[0m\u001b[0;34m\u001b[0m\u001b[0m\n",
      "\u001b[0;32m<ipython-input-9-e3df992e75ae>\u001b[0m in \u001b[0;36mpredict_sentiment\u001b[0;34m(text)\u001b[0m\n\u001b[1;32m      1\u001b[0m \u001b[0;31m# Method to predict sentiment of sentences using the trained weights of the neural network\u001b[0m\u001b[0;34m\u001b[0m\u001b[0;34m\u001b[0m\u001b[0m\n\u001b[1;32m      2\u001b[0m \u001b[0;32mdef\u001b[0m \u001b[0mpredict_sentiment\u001b[0m\u001b[0;34m(\u001b[0m\u001b[0mtext\u001b[0m\u001b[0;34m)\u001b[0m\u001b[0;34m:\u001b[0m\u001b[0;34m\u001b[0m\u001b[0m\n\u001b[0;32m----> 3\u001b[0;31m     \u001b[0msaver\u001b[0m \u001b[0;34m=\u001b[0m \u001b[0mtf\u001b[0m\u001b[0;34m.\u001b[0m\u001b[0mtrain\u001b[0m\u001b[0;34m.\u001b[0m\u001b[0mSaver\u001b[0m\u001b[0;34m(\u001b[0m\u001b[0;34m)\u001b[0m\u001b[0;34m\u001b[0m\u001b[0m\n\u001b[0m\u001b[1;32m      4\u001b[0m     \u001b[0mtext\u001b[0m \u001b[0;34m=\u001b[0m \u001b[0mtext_to_vector\u001b[0m\u001b[0;34m(\u001b[0m\u001b[0mtext\u001b[0m\u001b[0;34m)\u001b[0m\u001b[0;34m.\u001b[0m\u001b[0mreshape\u001b[0m\u001b[0;34m(\u001b[0m\u001b[0;36m1\u001b[0m\u001b[0;34m,\u001b[0m\u001b[0;36m20000\u001b[0m\u001b[0;34m)\u001b[0m\u001b[0;34m\u001b[0m\u001b[0m\n\u001b[1;32m      5\u001b[0m     \u001b[0mprediction\u001b[0m \u001b[0;34m=\u001b[0m \u001b[0mtf\u001b[0m\u001b[0;34m.\u001b[0m\u001b[0mequal\u001b[0m\u001b[0;34m(\u001b[0m\u001b[0mtf\u001b[0m\u001b[0;34m.\u001b[0m\u001b[0margmax\u001b[0m\u001b[0;34m(\u001b[0m\u001b[0mpred\u001b[0m\u001b[0;34m,\u001b[0m\u001b[0;36m1\u001b[0m\u001b[0;34m)\u001b[0m\u001b[0;34m,\u001b[0m\u001b[0;36m1\u001b[0m\u001b[0;34m)\u001b[0m\u001b[0;34m\u001b[0m\u001b[0m\n",
      "\u001b[0;32m/anaconda3/lib/python3.6/site-packages/tensorflow/python/training/saver.py\u001b[0m in \u001b[0;36m__init__\u001b[0;34m(self, var_list, reshape, sharded, max_to_keep, keep_checkpoint_every_n_hours, name, restore_sequentially, saver_def, builder, defer_build, allow_empty, write_version, pad_step_number, save_relative_paths, filename)\u001b[0m\n\u001b[1;32m   1216\u001b[0m     \u001b[0mself\u001b[0m\u001b[0;34m.\u001b[0m\u001b[0m_filename\u001b[0m \u001b[0;34m=\u001b[0m \u001b[0mfilename\u001b[0m\u001b[0;34m\u001b[0m\u001b[0m\n\u001b[1;32m   1217\u001b[0m     \u001b[0;32mif\u001b[0m \u001b[0;32mnot\u001b[0m \u001b[0mdefer_build\u001b[0m \u001b[0;32mand\u001b[0m \u001b[0mcontext\u001b[0m\u001b[0;34m.\u001b[0m\u001b[0min_graph_mode\u001b[0m\u001b[0;34m(\u001b[0m\u001b[0;34m)\u001b[0m\u001b[0;34m:\u001b[0m\u001b[0;34m\u001b[0m\u001b[0m\n\u001b[0;32m-> 1218\u001b[0;31m       \u001b[0mself\u001b[0m\u001b[0;34m.\u001b[0m\u001b[0mbuild\u001b[0m\u001b[0;34m(\u001b[0m\u001b[0;34m)\u001b[0m\u001b[0;34m\u001b[0m\u001b[0m\n\u001b[0m\u001b[1;32m   1219\u001b[0m     \u001b[0;32mif\u001b[0m \u001b[0mself\u001b[0m\u001b[0;34m.\u001b[0m\u001b[0msaver_def\u001b[0m\u001b[0;34m:\u001b[0m\u001b[0;34m\u001b[0m\u001b[0m\n\u001b[1;32m   1220\u001b[0m       \u001b[0mself\u001b[0m\u001b[0;34m.\u001b[0m\u001b[0m_check_saver_def\u001b[0m\u001b[0;34m(\u001b[0m\u001b[0;34m)\u001b[0m\u001b[0;34m\u001b[0m\u001b[0m\n",
      "\u001b[0;32m/anaconda3/lib/python3.6/site-packages/tensorflow/python/training/saver.py\u001b[0m in \u001b[0;36mbuild\u001b[0;34m(self)\u001b[0m\n\u001b[1;32m   1225\u001b[0m     \u001b[0;32mif\u001b[0m \u001b[0mcontext\u001b[0m\u001b[0;34m.\u001b[0m\u001b[0min_eager_mode\u001b[0m\u001b[0;34m(\u001b[0m\u001b[0;34m)\u001b[0m\u001b[0;34m:\u001b[0m\u001b[0;34m\u001b[0m\u001b[0m\n\u001b[1;32m   1226\u001b[0m       \u001b[0;32mraise\u001b[0m \u001b[0mValueError\u001b[0m\u001b[0;34m(\u001b[0m\u001b[0;34m\"Use save/restore instead of build in eager mode.\"\u001b[0m\u001b[0;34m)\u001b[0m\u001b[0;34m\u001b[0m\u001b[0m\n\u001b[0;32m-> 1227\u001b[0;31m     \u001b[0mself\u001b[0m\u001b[0;34m.\u001b[0m\u001b[0m_build\u001b[0m\u001b[0;34m(\u001b[0m\u001b[0mself\u001b[0m\u001b[0;34m.\u001b[0m\u001b[0m_filename\u001b[0m\u001b[0;34m,\u001b[0m \u001b[0mbuild_save\u001b[0m\u001b[0;34m=\u001b[0m\u001b[0;32mTrue\u001b[0m\u001b[0;34m,\u001b[0m \u001b[0mbuild_restore\u001b[0m\u001b[0;34m=\u001b[0m\u001b[0;32mTrue\u001b[0m\u001b[0;34m)\u001b[0m\u001b[0;34m\u001b[0m\u001b[0m\n\u001b[0m\u001b[1;32m   1228\u001b[0m \u001b[0;34m\u001b[0m\u001b[0m\n\u001b[1;32m   1229\u001b[0m   \u001b[0;32mdef\u001b[0m \u001b[0m_build_eager\u001b[0m\u001b[0;34m(\u001b[0m\u001b[0mself\u001b[0m\u001b[0;34m,\u001b[0m \u001b[0mcheckpoint_path\u001b[0m\u001b[0;34m,\u001b[0m \u001b[0mbuild_save\u001b[0m\u001b[0;34m,\u001b[0m \u001b[0mbuild_restore\u001b[0m\u001b[0;34m)\u001b[0m\u001b[0;34m:\u001b[0m\u001b[0;34m\u001b[0m\u001b[0m\n",
      "\u001b[0;32m/anaconda3/lib/python3.6/site-packages/tensorflow/python/training/saver.py\u001b[0m in \u001b[0;36m_build\u001b[0;34m(self, checkpoint_path, build_save, build_restore)\u001b[0m\n\u001b[1;32m   1249\u001b[0m           \u001b[0;32mreturn\u001b[0m\u001b[0;34m\u001b[0m\u001b[0m\n\u001b[1;32m   1250\u001b[0m         \u001b[0;32melse\u001b[0m\u001b[0;34m:\u001b[0m\u001b[0;34m\u001b[0m\u001b[0m\n\u001b[0;32m-> 1251\u001b[0;31m           \u001b[0;32mraise\u001b[0m \u001b[0mValueError\u001b[0m\u001b[0;34m(\u001b[0m\u001b[0;34m\"No variables to save\"\u001b[0m\u001b[0;34m)\u001b[0m\u001b[0;34m\u001b[0m\u001b[0m\n\u001b[0m\u001b[1;32m   1252\u001b[0m       \u001b[0mself\u001b[0m\u001b[0;34m.\u001b[0m\u001b[0m_is_empty\u001b[0m \u001b[0;34m=\u001b[0m \u001b[0;32mFalse\u001b[0m\u001b[0;34m\u001b[0m\u001b[0m\n\u001b[1;32m   1253\u001b[0m \u001b[0;34m\u001b[0m\u001b[0m\n",
      "\u001b[0;31mValueError\u001b[0m: No variables to save"
     ]
    }
   ],
   "source": [
    "# The trained neural network works quite well\n",
    "prediction = predict_sentiment(testText)\n",
    "print(prediction)"
   ]
  },
  {
   "cell_type": "code",
   "execution_count": null,
   "metadata": {
    "collapsed": true,
    "scrolled": false
   },
   "outputs": [],
   "source": []
  }
 ],
 "metadata": {
  "kernelspec": {
   "display_name": "Python 3",
   "language": "python",
   "name": "python3"
  },
  "language_info": {
   "codemirror_mode": {
    "name": "ipython",
    "version": 3
   },
   "file_extension": ".py",
   "mimetype": "text/x-python",
   "name": "python",
   "nbconvert_exporter": "python",
   "pygments_lexer": "ipython3",
   "version": "3.6.2"
  }
 },
 "nbformat": 4,
 "nbformat_minor": 2
}
